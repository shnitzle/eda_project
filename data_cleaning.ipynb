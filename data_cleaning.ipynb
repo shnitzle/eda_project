{
 "cells": [
  {
   "cell_type": "code",
   "execution_count": 109,
   "id": "7eaeaf84",
   "metadata": {},
   "outputs": [],
   "source": [
    "# import pandas library and read csv-file into dataframe\n",
    "import pandas as pd\n",
    "\n",
    "df = pd.read_csv('data/eda.csv')"
   ]
  },
  {
   "cell_type": "code",
   "execution_count": 110,
   "id": "ebd89ae9",
   "metadata": {},
   "outputs": [
    {
     "name": "stdout",
     "output_type": "stream",
     "text": [
      "<class 'pandas.core.frame.DataFrame'>\n",
      "RangeIndex: 21597 entries, 0 to 21596\n",
      "Data columns (total 21 columns):\n",
      " #   Column         Non-Null Count  Dtype  \n",
      "---  ------         --------------  -----  \n",
      " 0   id             21597 non-null  int64  \n",
      " 1   bedrooms       21597 non-null  float64\n",
      " 2   bathrooms      21597 non-null  float64\n",
      " 3   sqft_living    21597 non-null  float64\n",
      " 4   sqft_lot       21597 non-null  float64\n",
      " 5   floors         21597 non-null  float64\n",
      " 6   waterfront     19206 non-null  float64\n",
      " 7   view           21534 non-null  float64\n",
      " 8   condition      21597 non-null  int64  \n",
      " 9   grade          21597 non-null  int64  \n",
      " 10  sqft_above     21597 non-null  float64\n",
      " 11  sqft_basement  21145 non-null  float64\n",
      " 12  yr_built       21597 non-null  int64  \n",
      " 13  yr_renovated   17749 non-null  float64\n",
      " 14  zipcode        21597 non-null  int64  \n",
      " 15  lat            21597 non-null  float64\n",
      " 16  long           21597 non-null  float64\n",
      " 17  sqft_living15  21597 non-null  float64\n",
      " 18  sqft_lot15     21597 non-null  float64\n",
      " 19  date           21597 non-null  object \n",
      " 20  price          21597 non-null  float64\n",
      "dtypes: float64(15), int64(5), object(1)\n",
      "memory usage: 3.5+ MB\n"
     ]
    }
   ],
   "source": [
    "# check dataset columns and types\n",
    "df.info()"
   ]
  },
  {
   "cell_type": "code",
   "execution_count": 111,
   "id": "01227519",
   "metadata": {},
   "outputs": [
    {
     "data": {
      "text/plain": [
       "False    21597\n",
       "Name: count, dtype: int64"
      ]
     },
     "execution_count": 111,
     "metadata": {},
     "output_type": "execute_result"
    }
   ],
   "source": [
    "# check for duplicates\n",
    "df.duplicated().value_counts()"
   ]
  },
  {
   "cell_type": "code",
   "execution_count": 112,
   "id": "7126b516",
   "metadata": {},
   "outputs": [
    {
     "name": "stdout",
     "output_type": "stream",
     "text": [
      "<class 'pandas._libs.tslibs.timestamps.Timestamp'>\n"
     ]
    }
   ],
   "source": [
    "# convert 'date' to pandas timestamp type and check result\n",
    "df['date'] = pd.to_datetime(df['date'], format='%Y-%m-%d')\n",
    "print(type(df['date'][0]))"
   ]
  },
  {
   "cell_type": "code",
   "execution_count": 113,
   "id": "daea6b4e",
   "metadata": {},
   "outputs": [
    {
     "name": "stdout",
     "output_type": "stream",
     "text": [
      "[nan  0.  1.]\n",
      "[ 0. nan  3.  4.  2.  1.]\n",
      "[   0.  400.  910. 1530.   nan  730. 1700.  300.  970.  760.  720.  700.\n",
      "  820.  780.  790.  330. 1620.  360.  588. 1510.  410.  990.  600.  560.\n",
      "  550. 1000. 1600.  500. 1040.  880. 1010.  240.  265.  290.  800.  540.\n",
      "  710.  840.  380.  770.  480.  570. 1490.  620. 1250. 1270.  120.  650.\n",
      "  180. 1130.  450. 1640. 1460. 1020. 1030.  750.  640. 1070.  490. 1310.\n",
      "  630. 2000.  390.  430.  850.  210. 1430. 1950.  440.  220. 1160.  860.\n",
      "  580. 2060. 1820. 1180.  200. 1150. 1200.  680.  530. 1450. 1170. 1080.\n",
      "  960.  280.  870. 1100.  460. 1400.  660. 1220.  900.  420. 1580. 1380.\n",
      "  475.  690.  270.  350.  935. 1370.  980. 1470.  160.  950.   50.  740.\n",
      " 1780. 1900.  340.  470.  370.  140. 1760.  130.  520.  890. 1110.  150.\n",
      " 1720.  810.  190. 1290.  670. 1800. 1120. 1810.   60. 1050.  940.  310.\n",
      "  930. 1390.  610. 1830. 1300.  510. 1330. 1590.  920. 1320. 1420. 1240.\n",
      " 1960. 1560. 2020. 1190. 2110. 1280.  250. 2390. 1230.  170.  830. 1260.\n",
      " 1410. 1340.  590. 1500. 1140.  260.  100.  320. 1480. 1060. 1284. 1670.\n",
      " 1350. 2570. 1090.  110. 2500.   90. 1940. 1550. 2350. 2490. 1481. 1360.\n",
      " 1135. 1520. 1850. 1660. 2130. 2600. 1690.  243. 1210. 1024. 1798. 1610.\n",
      " 1440. 1570. 1650.  704. 1910. 1630. 2360. 1852. 2090. 2400. 1790. 2150.\n",
      "  230.   70. 1680. 2100. 3000. 1870. 1710. 2030.  875. 1540. 2850. 2170.\n",
      "  506.  906.  145. 2040.  784. 1750.  374.  518. 2720. 2730. 1840. 3480.\n",
      " 2160. 1920. 2330. 1860. 2050. 4820. 1913.   80. 2010. 3260. 2200.  415.\n",
      " 1730.  652. 2196. 1930.  515.   40. 2080. 2580. 1548. 1740.  235.  861.\n",
      " 1890. 2220.  792. 2070. 4130. 2250. 2240. 1990.  768. 2550.  435. 1008.\n",
      " 2300. 2610.  666. 3500.  172. 1816. 2190. 1245. 1525. 1880.  862.  946.\n",
      " 1281.  414. 2180.  276. 1248.  602.  516.  176.  225. 1275.  266.  283.\n",
      "   65. 2310.   10. 1770. 2120.  295.  207.  915.  556.  417.  143.  508.\n",
      " 2810.   20.  274.  248.]\n",
      "[    0. 19910.    nan 20020. 20100. 19920. 20130. 19940. 19780. 20050.\n",
      " 20030. 19840. 19540. 20140. 20110. 19830. 19450. 19900. 19880. 19770.\n",
      " 19810. 19950. 20000. 19990. 19980. 19700. 19890. 20040. 19860. 20070.\n",
      " 19870. 20060. 19850. 20010. 19800. 19710. 19790. 19970. 19500. 19690.\n",
      " 19480. 20090. 20150. 19740. 20080. 19680. 20120. 19630. 19510. 19620.\n",
      " 19530. 19930. 19960. 19550. 19820. 19560. 19400. 19760. 19460. 19750.\n",
      " 19640. 19730. 19570. 19590. 19600. 19670. 19650. 19340. 19720. 19440.\n",
      " 19580.]\n"
     ]
    }
   ],
   "source": [
    "# check unique values in columns with nan-values to assume value to insert for nan-values\n",
    "print(df['waterfront'].unique())\n",
    "print(df['view'].unique())\n",
    "print(df['sqft_basement'].unique())\n",
    "print(df['yr_renovated'].unique())"
   ]
  },
  {
   "cell_type": "code",
   "execution_count": 114,
   "id": "28a81f3b",
   "metadata": {},
   "outputs": [
    {
     "name": "stdout",
     "output_type": "stream",
     "text": [
      "False\n"
     ]
    }
   ],
   "source": [
    "# check if any values in 'yr_renovated' is not divisible by 10\n",
    "modulo_renovated = df['yr_renovated'] % 10\n",
    "print(any(modulo_renovated > 0))"
   ]
  },
  {
   "cell_type": "markdown",
   "id": "40d1c317",
   "metadata": {},
   "source": [
    "## ____\n",
    "\n",
    "We decided to fill all nan-values with 0s to not lose too much information about the houses (e.g. column 'waterfront' has over 2000 nan-values which would be too many rows to drop). \n",
    "\n",
    "Of course, this kind of imputing can also be disadvantageous. A view quality of 0 instead of 'nan' is a huge difference. Maybe the house has a high view quality and could sell for a higher price because of that view.\n",
    "\n",
    "However, as we are not including 'waterfront', 'view', or 'sqft_basement' into testing our hypotheses, we continue with filling 'nan' with 0s to have a dataset as complete as possible. \n",
    "\n",
    "Additionally, as there are many 'nan'-values in 'yr_renovated' and the majority of houses without 'nan'-values has not been renovated, it can be assumed that those with 'nan'-values were also not renovated.\n",
    "\n",
    "The column 'yr_renovated' appears to be flawed as all values that are not 0 or 'nan' have 5 digits. It seems like the years were multiplied with 10 for some reason. Since there are no values that are not divisible by 10 (see above) it is presumably safe to just divide all values by 10.\n",
    "\n",
    "## ____"
   ]
  },
  {
   "cell_type": "code",
   "execution_count": 115,
   "id": "9d4db395",
   "metadata": {},
   "outputs": [],
   "source": [
    "# fill nan-values with 0s\n",
    "df['waterfront'] = df['waterfront'].fillna(0)\n",
    "df['view'] = df['view'].fillna(0)\n",
    "df['sqft_basement'] = df['sqft_basement'].fillna(0)\n",
    "# additionally divide 'yr_renovated' by 10 as it is denoted incorrectly in original dataset\n",
    "df['yr_renovated'] = df['yr_renovated'].fillna(0) / 10"
   ]
  },
  {
   "cell_type": "code",
   "execution_count": 116,
   "id": "1ee410ac",
   "metadata": {},
   "outputs": [
    {
     "name": "stdout",
     "output_type": "stream",
     "text": [
      "<class 'pandas.core.frame.DataFrame'>\n",
      "RangeIndex: 21597 entries, 0 to 21596\n",
      "Data columns (total 21 columns):\n",
      " #   Column         Non-Null Count  Dtype         \n",
      "---  ------         --------------  -----         \n",
      " 0   id             21597 non-null  int64         \n",
      " 1   bedrooms       21597 non-null  int64         \n",
      " 2   bathrooms      21597 non-null  int64         \n",
      " 3   sqft_living    21597 non-null  float64       \n",
      " 4   sqft_lot       21597 non-null  float64       \n",
      " 5   floors         21597 non-null  int64         \n",
      " 6   waterfront     21597 non-null  int64         \n",
      " 7   view           21597 non-null  int64         \n",
      " 8   condition      21597 non-null  int64         \n",
      " 9   grade          21597 non-null  int64         \n",
      " 10  sqft_above     21597 non-null  float64       \n",
      " 11  sqft_basement  21597 non-null  float64       \n",
      " 12  yr_built       21597 non-null  int64         \n",
      " 13  yr_renovated   21597 non-null  int64         \n",
      " 14  zipcode        21597 non-null  int64         \n",
      " 15  lat            21597 non-null  float64       \n",
      " 16  long           21597 non-null  float64       \n",
      " 17  sqft_living15  21597 non-null  float64       \n",
      " 18  sqft_lot15     21597 non-null  float64       \n",
      " 19  date           21597 non-null  datetime64[ns]\n",
      " 20  price          21597 non-null  float64       \n",
      "dtypes: datetime64[ns](1), float64(9), int64(11)\n",
      "memory usage: 3.5 MB\n"
     ]
    }
   ],
   "source": [
    "# convert columns to more reasonable types and check result\n",
    "df = df.astype({'bedrooms': int,\n",
    "                'bathrooms': int,\n",
    "                'floors': int,\n",
    "                'waterfront': int,\n",
    "                'view': int,\n",
    "                'yr_renovated': int})\n",
    "df.info()"
   ]
  }
 ],
 "metadata": {
  "kernelspec": {
   "display_name": ".venv",
   "language": "python",
   "name": "python3"
  },
  "language_info": {
   "codemirror_mode": {
    "name": "ipython",
    "version": 3
   },
   "file_extension": ".py",
   "mimetype": "text/x-python",
   "name": "python",
   "nbconvert_exporter": "python",
   "pygments_lexer": "ipython3",
   "version": "3.11.3"
  }
 },
 "nbformat": 4,
 "nbformat_minor": 5
}
