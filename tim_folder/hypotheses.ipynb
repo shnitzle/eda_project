{
 "cells": [
  {
   "cell_type": "markdown",
   "id": "960a83c2",
   "metadata": {},
   "source": [
    "1. prices + zip code -> median/mean\n",
    "buy houses under median/mean, sell over/around median/mean\n",
    "\n",
    "2. buy houses in poor condition/long time no renovation\n",
    "-> renovate -> sell for little profit\n",
    "\n",
    "3. prices + season/date\n",
    "sell at a time with least profit (but still a little profit)"
   ]
  },
  {
   "cell_type": "markdown",
   "id": "eeba41c6",
   "metadata": {},
   "source": [
    "1. Houses sold below median price are located further away from the city center.\n",
    "2. Houses that were built before 1990 and that are in poor condition have a median price that is 10% lower than that of other houses.\n",
    "3. Houses sold in winter have a median price that is 10% lower than houses sold during other seasons."
   ]
  }
 ],
 "metadata": {
  "language_info": {
   "name": "python"
  }
 },
 "nbformat": 4,
 "nbformat_minor": 5
}
