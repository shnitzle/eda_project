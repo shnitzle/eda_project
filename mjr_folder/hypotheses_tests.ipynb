{
 "cells": [
  {
   "cell_type": "code",
   "execution_count": 6,
   "id": "487db35d",
   "metadata": {},
   "outputs": [],
   "source": [
    "# import libraries for hypotheses testing and visualization and read cleaned csv-file to dataframe\n",
    "\n",
    "import folium\n",
    "import pandas as pd\n",
    "from matplotlib import colormaps, colors\n",
    "\n",
    "df = pd.read_csv('eda_clean.csv')"
   ]
  },
  {
   "cell_type": "markdown",
   "id": "b4d99a2e",
   "metadata": {},
   "source": [
    "#### Visualizing house prices and city center on map of Seattle"
   ]
  },
  {
   "cell_type": "code",
   "execution_count": 7,
   "id": "745f725e",
   "metadata": {},
   "outputs": [],
   "source": [
    "# # normalize price column for colormapping\n",
    "# norm = colors.Normalize(vmin=df[\"price\"].quantile(q=0.25), vmax=df[\"price\"].quantile(q=0.75))\n",
    "# # choose colormap from matplotlib colormaps\n",
    "# cmap = colormaps[\"coolwarm\"]\n",
    "\n",
    "# # create map using folium with coordinates of Seattle city center\n",
    "# city_center = [47.6050242, -122.3343709]\n",
    "# m = folium.Map(location=city_center, zoomstart=12)\n",
    "\n",
    "# # adding circles at house locations with color depending on house price\n",
    "# for _, row in df.iterrows():\n",
    "\n",
    "#     # assigning color from colormap matching with price\n",
    "#     color = colors.to_hex(cmap(norm(row['price'])))\n",
    "    \n",
    "#     # add circle\n",
    "#     folium.CircleMarker(\n",
    "#         location=[row['lat'], row['long']],                                                     # location\n",
    "#         radius=2,                                                                               # size of circle\n",
    "#         popup=f\"Price: $ {row['price']:,}\\nDistance Center: {round(row['dist_center'], 2)}\",    # popup message including price and distance\n",
    "#         color=color,                                                                            # assigned circle color\n",
    "#         fill=True,                                                                              # filled\n",
    "#         fill_opacity=0.3                                                                        # with certain filling opacity\n",
    "#     ).add_to(m)\n",
    "\n",
    "# # add circle for city center\n",
    "# folium.CircleMarker(\n",
    "#     location=city_center,\n",
    "#     radius=15,\n",
    "#     popup=\"City Center\",\n",
    "#     color=\"black\",\n",
    "#     fill=True,\n",
    "#     fill_opacity=0.6\n",
    "# ).add_to(m)\n",
    "\n",
    "# # showing map\n",
    "# m"
   ]
  },
  {
   "cell_type": "markdown",
   "id": "c9da51c0",
   "metadata": {},
   "source": [
    "# Hypothesis 1\n",
    "#### Houses sold below median price are located further away from the city center."
   ]
  },
  {
   "cell_type": "code",
   "execution_count": 8,
   "id": "4dda2217",
   "metadata": {},
   "outputs": [
    {
     "name": "stdout",
     "output_type": "stream",
     "text": [
      "Median distance to city center for houses sold below median price: 19.463 km\n",
      "Median distance to city center for houses sold above or equal to median price: 14.003 km\n"
     ]
    }
   ],
   "source": [
    "# filter for houses which were sold for a price below the median price of all houses\n",
    "low_price_houses = df[df['price'] < df['price'].median()]\n",
    "# calculate median distance of these houses to the city center\n",
    "median_dist_low = low_price_houses['dist_center'].median()\n",
    "\n",
    "# filter for houses which were sold for a price above or equal to the median price of all houses\n",
    "high_price_houses = df[df['price'] >= df['price'].median()]\n",
    "# calculate median distance of these houses to the city center\n",
    "median_dist_high = high_price_houses['dist_center'].median()\n",
    "\n",
    "print(f\"Median distance to city center for houses sold below median price: {round(median_dist_low, 3)} km\")\n",
    "print(f\"Median distance to city center for houses sold above or equal to median price: {round(median_dist_high, 3)} km\")"
   ]
  },
  {
   "cell_type": "markdown",
   "id": "4e31ee89",
   "metadata": {},
   "source": [
    "-> Hypothesis 1 is true."
   ]
  },
  {
   "cell_type": "markdown",
   "id": "ac30e174",
   "metadata": {},
   "source": [
    "# Hypothesis 2\n",
    "#### Houses that were built before 1990 and that are in poor condition have a median price that is 10% lower than that of other houses."
   ]
  },
  {
   "cell_type": "code",
   "execution_count": 9,
   "id": "7d378aab",
   "metadata": {},
   "outputs": [
    {
     "name": "stdout",
     "output_type": "stream",
     "text": [
      "Median price of houses in poor condition and built before 1990: 279000.0$\n",
      "Median price of other houses: 451000.0$\n",
      "Median price of old houses is 38.14% lower than median price of other houses.\n",
      "\n",
      "Number of houses in poor condition: 199\n",
      "Number of houses built before 1990: 14609\n",
      "Number of houses for both filtering conditions: 196\n"
     ]
    }
   ],
   "source": [
    "# filter for houses with condition below 3 AND that were built before 1990\n",
    "old_poor_condition_houses = df[(df['condition'] < 3) & (df['yr_built'] < 1990)]\n",
    "# filter for all other houses\n",
    "other_houses = df[(df['condition'] >= 3) | (df['yr_built'] >= 1990)]\n",
    "# calculate median for both groups of houses\n",
    "old_poor_median = old_poor_condition_houses['price'].median()\n",
    "other_median = other_houses['price'].median()\n",
    "# calculate percentage of median price of old houses in poor condition to median price of other houses\n",
    "ratio = old_poor_median / other_median\n",
    "print(f\"Median price of houses in poor condition and built before 1990: {old_poor_median}$\")\n",
    "print(f\"Median price of other houses: {other_median}$\")\n",
    "print(f\"Median price of old houses is {round((1 - ratio) * 100, 2)}% lower than median price of other houses.\")\n",
    "print()\n",
    "\n",
    "# old_houses = df[df['condition'] < 3]\n",
    "# other_houses = df[df['condition'] >= 3]\n",
    "# old_median = old_houses['price'].median()\n",
    "# other_median = other_houses['price'].median()\n",
    "# diff = old_median / other_median\n",
    "# print(old_median)\n",
    "# print(other_median)\n",
    "# print(diff)\n",
    "# print()\n",
    "\n",
    "# check number of houses for different filtering conditions\n",
    "poor_condition_houses = df[df['condition'] < 3]\n",
    "old_houses = df[df['yr_built'] < 1990]\n",
    "print(f\"Number of houses in poor condition: {poor_condition_houses.shape[0]}\")\n",
    "print(f\"Number of houses built before 1990: {old_houses.shape[0]}\")\n",
    "print(f\"Number of houses for both filtering conditions: {old_poor_condition_houses.shape[0]}\")"
   ]
  },
  {
   "cell_type": "markdown",
   "id": "db446926",
   "metadata": {},
   "source": [
    "-> Hypothesis 2 is false. It is 38.14% and not 10%.\n",
    "\n",
    "Note: As most houses in poor condition were built before 1990 (only 3 houses in poor condition were built after 1990), the values for houses in poor condition is identical to the values shown before."
   ]
  },
  {
   "cell_type": "markdown",
   "id": "b157e587",
   "metadata": {},
   "source": [
    "# Hypothesis 3\n",
    "#### Houses sold in winter have a median price that is 10% lower than houses sold during other seasons."
   ]
  },
  {
   "cell_type": "code",
   "execution_count": 10,
   "id": "0aada432",
   "metadata": {},
   "outputs": [
    {
     "name": "stdout",
     "output_type": "stream",
     "text": [
      "Median price of houses sold in winter: 430000.0$\n",
      "Median price of houses sold during other seasons: 455000.0$\n",
      "Median price of houses sold in winter is 5.49% lower than median price of other houses.\n",
      "\n",
      "\n",
      "\n",
      "Median price for spring: 465000.0\n",
      "Median price for other seasons: 446000.0\n",
      "Ratio other seasons to spring: 104.26\n",
      "\n",
      "Median price for summer: 455000.0\n",
      "Median price for other seasons: 450000.0\n",
      "Ratio other seasons to summer: 101.11\n",
      "\n",
      "Median price for fall: 443725.0\n",
      "Median price for other seasons: 452500.0\n",
      "Ratio other seasons to fall: 98.06\n",
      "\n",
      "Median price for winter: 430000.0\n",
      "Median price for other seasons: 455000.0\n",
      "Ratio other seasons to winter: 94.51\n",
      "\n"
     ]
    }
   ],
   "source": [
    "# filter for houses sold in winter\n",
    "winter_houses = df[df['season'] == 'winter']\n",
    "# filter for houses that were sold in other seasons\n",
    "other_houses = df[df['season'] != 'winter']\n",
    "\n",
    "# calculate median price for both groups\n",
    "winter_median = winter_houses['price'].median()\n",
    "other_median = other_houses['price'].median()\n",
    "# calculate percentage of median price of houses sold in winter to houses sold in other seasons\n",
    "ratio = winter_median / other_median\n",
    "\n",
    "print(f\"Median price of houses sold in winter: {winter_median}$\")\n",
    "print(f\"Median price of houses sold during other seasons: {other_median}$\")\n",
    "print(f\"Median price of houses sold in winter is {round((1 - ratio) * 100, 2)}% lower than median price of other houses.\\n\\n\\n\")\n",
    "\n",
    "for season in ['spring', 'summer', 'fall', 'winter']:\n",
    "    season_median = df[df['season'] == season]['price'].median()\n",
    "    other_median = df[df['season'] != season]['price'].median()\n",
    "    print(f\"Median price for {season}: {season_median}\")\n",
    "    print(f\"Median price for other seasons: {other_median}\")\n",
    "    print(f\"Ratio other seasons to {season}: {round((season_median / other_median) * 100, 2)}\\n\")"
   ]
  },
  {
   "cell_type": "markdown",
   "id": "fe907e9f",
   "metadata": {},
   "source": [
    "-> Hypothesis 3 is false. It is 5.49% and not 10%.\n",
    "\n",
    "Note: Other seasons were also tested in the same way. Houses sold in winter show the highest difference in median price to houses sold in other seasons."
   ]
  }
 ],
 "metadata": {
  "kernelspec": {
   "display_name": ".venv",
   "language": "python",
   "name": "python3"
  },
  "language_info": {
   "codemirror_mode": {
    "name": "ipython",
    "version": 3
   },
   "file_extension": ".py",
   "mimetype": "text/x-python",
   "name": "python",
   "nbconvert_exporter": "python",
   "pygments_lexer": "ipython3",
   "version": "3.11.3"
  }
 },
 "nbformat": 4,
 "nbformat_minor": 5
}
